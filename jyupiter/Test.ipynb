{
 "cells": [
  {
   "cell_type": "code",
   "execution_count": null,
   "metadata": {},
   "outputs": [],
   "source": [
    "import os"
   ]
  },
  {
   "cell_type": "markdown",
   "metadata": {},
   "source": [
    "## 文字列を比較して，重複部分を削除する"
   ]
  },
  {
   "cell_type": "code",
   "execution_count": null,
   "metadata": {},
   "outputs": [],
   "source": [
    "dir_pth = '/mnt/d/My_programing/OrigNet/data/ARCdataset_png/train'\n",
    "seg_pth = '/mnt/d/My_programing/OrigNet/data/ARCdataset_png/train/temp/2017-002-1_s/2017-002-1_s_10.png'"
   ]
  },
  {
   "cell_type": "code",
   "execution_count": null,
   "metadata": {},
   "outputs": [
    {
     "name": "stdout",
     "output_type": "stream",
     "text": [
      "temp/2017-002-1_s/2017-002-1_s_10.png\n"
     ]
    }
   ],
   "source": [
    "pth = seg_pth.replace(dir_pth+os.sep, \"\")\n",
    "print(pth)"
   ]
  },
  {
   "cell_type": "markdown",
   "metadata": {},
   "source": [
    "## Yacs Config Update テスト"
   ]
  },
  {
   "cell_type": "code",
   "execution_count": null,
   "metadata": {},
   "outputs": [],
   "source": [
    "from yacs.config import CfgNode as CN"
   ]
  },
  {
   "cell_type": "code",
   "execution_count": null,
   "metadata": {},
   "outputs": [],
   "source": [
    "cfg = CN()\n",
    "# task\n",
    "# classify or semantic_segm\n",
    "cfg.task = \"\"\n",
    "# class names\n",
    "cfg.cls_names = []\n",
    "# cnns, smp\n",
    "cfg.network = \"cnns\"\n",
    "# 例: alex\n",
    "cfg.model = \"\"\n",
    "# SemanticSegmentation 用のモデルで使用\n",
    "# 例: resnet18\n",
    "cfg.encoder_name = \"\"\n",
    "# 例: original\n",
    "cfg.model_dir = \"data/model\"\n",
    "# recorder\n",
    "cfg.record_dir = \"data/record\"\n",
    "# result\n",
    "cfg.result_dir = \"data/result\"\n",
    "# transfer or scratch\n",
    "cfg.train_type = \"transfer\"\n",
    "# img_size\n",
    "cfg.img_width = 255\n",
    "cfg.img_height = 255\n",
    "# 追加学習するか\n",
    "cfg.resume = True\n",
    "# 余ったバッチを切り捨てるか\n",
    "cfg.ep_iter = -1\n",
    "# 何 epoch で保存するか\n",
    "cfg.save_ep = 5\n",
    "cfg.eval_ep = 1\n",
    "# evaluator をスキップするか\n",
    "cfg.skip_eval = False\n",
    "# gpus\n",
    "cfg.gpus = [0, 1, 2, 3]\n",
    "# use amp\n",
    "cfg.use_amp = True\n",
    "\n",
    "# ---------------------\n",
    "# train\n",
    "# ---------------------\n",
    "cfg.train = CN()\n",
    "# dataset\n",
    "cfg.train.dataset = \"\"\n",
    "cfg.train.epoch = 140\n",
    "cfg.train.batch_size = 4\n",
    "cfg.train.num_workers = 2\n",
    "# image_size\n",
    "cfg.train.batch_sampler = \"\"\n",
    "cfg.train.optim = \"adam\"\n",
    "cfg.train.criterion = \"\"\n",
    "cfg.train.lr = 1e-3\n",
    "cfg.train.scheduler = \"step_lr\"\n",
    "cfg.train.weight_decay = 0.0\n",
    "cfg.train.milestones = (20, 40, 60, 80, 100, 120, 160, 180, 200, 220)\n",
    "cfg.train.warp_iter = 5\n",
    "cfg.train.gamma = 0.5\n",
    "cfg.train.metrics = \"iou\"\n",
    "\n",
    "# ---------------------\n",
    "# val\n",
    "# ---------------------\n",
    "cfg.val = CN()\n",
    "cfg.val.dataset = \"SampleTest\"\n",
    "cfg.val.batch_size = 20\n",
    "cfg.val.num_workers = 2\n",
    "cfg.val.batch_sampler = \"\"\n",
    "# ---------------------\n",
    "# test\n",
    "# ---------------------\n",
    "cfg.test = CN()\n",
    "cfg.test.dataset = \"\"\n",
    "cfg.test.batch_size = 20\n",
    "cfg.test.num_workers = 2\n",
    "# image_size\n",
    "cfg.test.batch_sampler = \"\""
   ]
  },
  {
   "cell_type": "code",
   "execution_count": null,
   "metadata": {},
   "outputs": [
    {
     "name": "stdout",
     "output_type": "stream",
     "text": [
      "<class 'yacs.config.CfgNode'>\n",
      "batch_sampler: \n",
      "batch_size: 4\n",
      "criterion: \n",
      "dataset: \n",
      "epoch: 140\n",
      "gamma: 0.5\n",
      "lr: 0.001\n",
      "metrics: iou\n",
      "milestones: (20, 40, 60, 80, 100, 120, 160, 180, 200, 220)\n",
      "num_workers: 2\n",
      "optim: adam\n",
      "scheduler: step_lr\n",
      "warp_iter: 5\n",
      "weight_decay: 0.0\n"
     ]
    }
   ],
   "source": [
    "value = cfg[\"train\"]\n",
    "print(type(value))\n",
    "print(value)"
   ]
  },
  {
   "cell_type": "code",
   "execution_count": 21,
   "metadata": {},
   "outputs": [
    {
     "name": "stdout",
     "output_type": "stream",
     "text": [
      "batch_sampler: \n",
      "batch_size: 4\n",
      "criterion: \n",
      "dataset: SampleTrain\n",
      "epoch: 140\n",
      "gamma: 0.5\n",
      "lr: 0.001\n",
      "metrics: iou\n",
      "milestones: (20, 40, 60, 80, 100, 120, 160, 180, 200, 220)\n",
      "num_workers: 2\n",
      "optim: adam\n",
      "scheduler: step_lr\n",
      "warp_iter: 5\n",
      "weight_decay: 0.0\n"
     ]
    }
   ],
   "source": [
    "cfg[\"train\"][\"dataset\"] = \"SampleTrain\"\n",
    "value = cfg[\"train\"]\n",
    "print(value)"
   ]
  }
 ],
 "metadata": {
  "interpreter": {
   "hash": "4ef86d54a61e7eca0ff45f98c90007ecbc40d0deed1291306a26acc281dc9365"
  },
  "kernelspec": {
   "display_name": "Python 3.9.7 64-bit ('net': conda)",
   "name": "python3"
  },
  "language_info": {
   "codemirror_mode": {
    "name": "ipython",
    "version": 3
   },
   "file_extension": ".py",
   "mimetype": "text/x-python",
   "name": "python",
   "nbconvert_exporter": "python",
   "pygments_lexer": "ipython3",
   "version": "3.9.7"
  },
  "orig_nbformat": 4
 },
 "nbformat": 4,
 "nbformat_minor": 2
}
