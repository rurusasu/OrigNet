{
 "cells": [
  {
   "cell_type": "code",
   "execution_count": 11,
   "metadata": {},
   "outputs": [],
   "source": [
    "import os"
   ]
  },
  {
   "cell_type": "code",
   "execution_count": 12,
   "metadata": {},
   "outputs": [],
   "source": [
    "dir_pth = '/mnt/d/My_programing/OrigNet/data/ARCdataset_png/train'\n",
    "seg_pth = '/mnt/d/My_programing/OrigNet/data/ARCdataset_png/train/temp/2017-002-1_s/2017-002-1_s_10.png'"
   ]
  },
  {
   "cell_type": "code",
   "execution_count": 13,
   "metadata": {},
   "outputs": [
    {
     "name": "stdout",
     "output_type": "stream",
     "text": [
      "temp/2017-002-1_s/2017-002-1_s_10.png\n"
     ]
    }
   ],
   "source": [
    "pth = seg_pth.replace(dir_pth+os.sep, \"\")\n",
    "print(pth)"
   ]
  }
 ],
 "metadata": {
  "interpreter": {
   "hash": "4ef86d54a61e7eca0ff45f98c90007ecbc40d0deed1291306a26acc281dc9365"
  },
  "kernelspec": {
   "display_name": "Python 3.8.11 64-bit ('net': conda)",
   "name": "python3"
  },
  "language_info": {
   "codemirror_mode": {
    "name": "ipython",
    "version": 3
   },
   "file_extension": ".py",
   "mimetype": "text/x-python",
   "name": "python",
   "nbconvert_exporter": "python",
   "pygments_lexer": "ipython3",
   "version": "3.8.11"
  },
  "orig_nbformat": 4
 },
 "nbformat": 4,
 "nbformat_minor": 2
}
