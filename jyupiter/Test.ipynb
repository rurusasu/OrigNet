{
 "cells": [
  {
   "cell_type": "code",
   "execution_count": 37,
   "metadata": {},
   "outputs": [],
   "source": [
    "import os"
   ]
  },
  {
   "cell_type": "markdown",
   "metadata": {},
   "source": [
    "## 文字列を比較して，重複部分を削除する"
   ]
  },
  {
   "cell_type": "code",
   "execution_count": 38,
   "metadata": {},
   "outputs": [],
   "source": [
    "dir_pth = '/mnt/d/My_programing/OrigNet/data/ARCdataset_png/train'\n",
    "seg_pth = '/mnt/d/My_programing/OrigNet/data/ARCdataset_png/train/temp/2017-002-1_s/2017-002-1_s_10.png'"
   ]
  },
  {
   "cell_type": "code",
   "execution_count": 39,
   "metadata": {},
   "outputs": [
    {
     "name": "stdout",
     "output_type": "stream",
     "text": [
      "temp/2017-002-1_s/2017-002-1_s_10.png\n"
     ]
    }
   ],
   "source": [
    "pth = seg_pth.replace(dir_pth+os.sep, \"\")\n",
    "print(pth)"
   ]
  }
 ],
 "metadata": {
  "interpreter": {
   "hash": "4ef86d54a61e7eca0ff45f98c90007ecbc40d0deed1291306a26acc281dc9365"
  },
  "kernelspec": {
   "display_name": "Python 3.9.7 64-bit ('net': conda)",
   "name": "python3"
  },
  "language_info": {
   "codemirror_mode": {
    "name": "ipython",
    "version": 3
   },
   "file_extension": ".py",
   "mimetype": "text/x-python",
   "name": "python",
   "nbconvert_exporter": "python",
   "pygments_lexer": "ipython3",
   "version": "3.9.7"
  },
  "orig_nbformat": 4
 },
 "nbformat": 4,
 "nbformat_minor": 2
}
