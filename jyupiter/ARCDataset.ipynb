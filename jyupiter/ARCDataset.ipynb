{
 "cells": [
  {
   "cell_type": "code",
   "execution_count": 1,
   "metadata": {},
   "outputs": [],
   "source": [
    "import sys\n",
    "\n",
    "sys.path.append(\"..\")\n",
    "\n",
    "from tqdm.contrib import tenumerate\n",
    "import pandas as pd\n",
    "\n",
    "from lib.utils.dataset_utils import ARCDataset"
   ]
  },
  {
   "cell_type": "code",
   "execution_count": 2,
   "metadata": {},
   "outputs": [],
   "source": [
    "pd.set_option('display.max_rows', None)\n",
    "pd.set_option('display.max_columns', None)"
   ]
  },
  {
   "cell_type": "code",
   "execution_count": 3,
   "metadata": {},
   "outputs": [
    {
     "name": "stdout",
     "output_type": "stream",
     "text": [
      "json ファイルを読みだします．\n",
      "                                        segmentation    image_id category_id  \\\n",
      "0  [[240, 240, 240, 240, 240, 240, 240, 240, 240,...  2017-002-1         [1]   \n",
      "1  [[339, 339, 339, 339, 339, 339, 339, 339, 339,...  2017-002-1         [1]   \n",
      "2  [[371, 371, 371, 371, 371, 371, 371, 371, 371,...  2017-002-1         [1]   \n",
      "3  [[0, 0, 0, 0, 0, 0, 0, 0, 0, 0, 0, 0, 0, 0, 0,...  2017-002-1         [1]   \n",
      "4  [[0, 0, 0, 0, 0, 0, 0, 0, 0, 0, 0, 0, 0, 0, 0,...  2017-002-1         [1]   \n",
      "5  [[87, 87, 87, 87, 87, 87, 87, 87, 87, 87, 87, ...  2017-002-1         [1]   \n",
      "\n",
      "   id  \n",
      "0   0  \n",
      "1   0  \n",
      "2   0  \n",
      "3   0  \n",
      "4   0  \n",
      "5   0  \n"
     ]
    }
   ],
   "source": [
    "json_pth = \"/mnt/d/My_programing/OrigNet/data/ARCdataset_png/train/annotations/instances_train2017.json\"\n",
    "\n",
    "dataset = ARCDataset(json_pth)\n",
    "df = dataset.get_df()\n",
    "print(df)"
   ]
  },
  {
   "cell_type": "code",
   "execution_count": 4,
   "metadata": {},
   "outputs": [
    {
     "name": "stdout",
     "output_type": "stream",
     "text": [
      "[10]\n"
     ]
    }
   ],
   "source": [
    "catNms = \"item10\"\n",
    "catIds = dataset.getCatIds(catNms)\n",
    "print(catIds)"
   ]
  },
  {
   "cell_type": "code",
   "execution_count": 5,
   "metadata": {},
   "outputs": [
    {
     "name": "stdout",
     "output_type": "stream",
     "text": [
      "Empty DataFrame\n",
      "Columns: [segmentation, image_id, category_id, id]\n",
      "Index: []\n"
     ]
    }
   ],
   "source": [
    "imgIds = dataset.getImgIds(catIds)\n",
    "print(imgIds)"
   ]
  }
 ],
 "metadata": {
  "interpreter": {
   "hash": "4ef86d54a61e7eca0ff45f98c90007ecbc40d0deed1291306a26acc281dc9365"
  },
  "kernelspec": {
   "display_name": "Python 3.8.11 64-bit ('net': conda)",
   "name": "python3"
  },
  "language_info": {
   "codemirror_mode": {
    "name": "ipython",
    "version": 3
   },
   "file_extension": ".py",
   "mimetype": "text/x-python",
   "name": "python",
   "nbconvert_exporter": "python",
   "pygments_lexer": "ipython3",
   "version": "3.8.11"
  },
  "orig_nbformat": 4
 },
 "nbformat": 4,
 "nbformat_minor": 2
}
