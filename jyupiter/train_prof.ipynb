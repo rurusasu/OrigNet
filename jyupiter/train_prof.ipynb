{
 "cells": [
  {
   "cell_type": "code",
   "execution_count": 11,
   "metadata": {},
   "outputs": [
    {
     "name": "stderr",
     "output_type": "stream",
     "text": [
      "usage: ipykernel_launcher.py [-h] [--cfg_file CFG_FILE] [--test] [--type TYPE]\n",
      "                             [--det DET]\n",
      "                             ...\n",
      "ipykernel_launcher.py: error: unrecognized arguments: --ip=127.0.0.1 --stdin=9003 --control=9001 --hb=9000 --Session.signature_scheme=\"hmac-sha256\" --Session.key=b\"914e45e4-b37e-48f0-a9c9-026a9e0e4c79\" --shell=9002 --transport=\"tcp\" --iopub=9004 --f=/tmp/tmp-23121a3gdv9UviYxm.json\n"
     ]
    },
    {
     "ename": "SystemExit",
     "evalue": "2",
     "output_type": "error",
     "traceback": [
      "An exception has occurred, use %tb to see the full traceback.\n",
      "\u001b[0;31mSystemExit\u001b[0m\u001b[0;31m:\u001b[0m 2\n"
     ]
    }
   ],
   "source": [
    "import sys\n",
    "\n",
    "sys.path.append(\"../\")\n",
    "sys.path.append(\"../../\")\n",
    "sys.path.append(\"../../../\")\n",
    "\n",
    "import torch\n",
    "from torch import profiler\n",
    "\n",
    "from lib.datasets.tasks.semantic_segm import SegmentationDataset"
   ]
  },
  {
   "cell_type": "code",
   "execution_count": null,
   "metadata": {},
   "outputs": [],
   "source": [
    "# cuda が存在する場合，cudaを使用する\n",
    "device = torch.device(\"cuda\" if torch.cuda.is_available() else \"cpu\")\n",
    "# PyTorchが自動で、処理速度の観点でハードウェアに適したアルゴリズムを選択してくれます。\n",
    "torch.backends.cudnn.benchmark = True\n",
    "torch.multiprocessing.set_sharing_strategy(\"file_system\")"
   ]
  },
  {
   "cell_type": "code",
   "execution_count": null,
   "metadata": {},
   "outputs": [],
   "source": [
    "with profiler.profile(\n",
    "    activities=[\n",
    "        profiler.ProfilerActivity.CPU,\n",
    "        profiler.ProfilerActivity.CUDA,\n",
    "    ],\n",
    "    schedule=profiler.schedule(wait=1, warmup=14, active=3),\n",
    "    on_trace_ready=profiler.tensorboard_trace_handler(cfg.profile_dir),\n",
    "    record_shapes=True,\n",
    "    profile_memory=True,\n",
    "    with_stack=True,\n",
    ") as prof:\n",
    "    with profiler.record_function(\"model_inference\"):\n",
    "        make_data_loader(cfg, is_train=True, max_iter=cfg.ep_iter)"
   ]
  }
 ],
 "metadata": {
  "interpreter": {
   "hash": "4ef86d54a61e7eca0ff45f98c90007ecbc40d0deed1291306a26acc281dc9365"
  },
  "kernelspec": {
   "display_name": "Python 3.8.11 64-bit ('net': conda)",
   "name": "python3"
  },
  "language_info": {
   "codemirror_mode": {
    "name": "ipython",
    "version": 3
   },
   "file_extension": ".py",
   "mimetype": "text/x-python",
   "name": "python",
   "nbconvert_exporter": "python",
   "pygments_lexer": "ipython3",
   "version": "3.8.11"
  },
  "orig_nbformat": 4
 },
 "nbformat": 4,
 "nbformat_minor": 2
}
